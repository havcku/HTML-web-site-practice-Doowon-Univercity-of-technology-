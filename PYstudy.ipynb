{
  "nbformat": 4,
  "nbformat_minor": 0,
  "metadata": {
    "colab": {
      "provenance": [],
      "authorship_tag": "ABX9TyP42vQsLXmvyZLTuI1ISJuh",
      "include_colab_link": true
    },
    "kernelspec": {
      "name": "python3",
      "display_name": "Python 3"
    },
    "language_info": {
      "name": "python"
    }
  },
  "cells": [
    {
      "cell_type": "markdown",
      "metadata": {
        "id": "view-in-github",
        "colab_type": "text"
      },
      "source": [
        "<a href=\"https://colab.research.google.com/github/havcku/my-first-web-site/blob/main/PYstudy.ipynb\" target=\"_parent\"><img src=\"https://colab.research.google.com/assets/colab-badge.svg\" alt=\"Open In Colab\"/></a>"
      ]
    },
    {
      "cell_type": "markdown",
      "source": [
        "##자료형\n",
        "####숫자형\n",
        "정수 : 123, -20, 0\n",
        "실수 : 123, 45, -4321.5, 6, 6.08e9\n",
        "8진수 : 0o456, 0o123\n",
        "16진수 : 0xFF, 0x00, 0x0A\n",
        "\n",
        "파이썬에서 지원하는 데이터 형에는 기본적인 정수형, 실수형, 불형, 문자열과 확장형인 리스트, 튜플 딕셔너리, 집합 등이 있다.\n",
        "\n",
        "숫자형은 소수점 여부에 따라 정수형과 실수형으로 나눌 수 있다.\n",
        "정수형에는 16진수, 8진수, 2진수도 사용할 수 있다. 16진수는 0x나 0X로, 8진수는 0o나 0O로 2진수는 0b나 0B로 표현한다.\n",
        "\n",
        "실수형은 소수점이 있는 데이터이다. 정수형과 실수형 모두 사칙연산을 수행할 수 있고, 제곱을 의미하는 **, 나머지를 구하는 %, 나눈 후 소수점을 버리는 // 연산자도 사용할 수 있다.\n",
        "\n",
        "####불형\n",
        "불형은 참이나 거젓만 저장할 수 있으며, 논리형이라고도 한다.\n",
        "불형은 비교의 결과를 참이나 거짓으로 저장하는 데 사용될 수 있다.\n",
        "\n",
        "####문자열\n",
        "문자열은 abc와 같이 문자집합을 의미하며, 큰따옴표나 작은따옴표로 표현한다.\n",
        "문자열을 그대로 출려하면, 작은따옴표에 묶어 출력되며, print() 함수로 출력하면, 작은따옴표 없이 출력된다. 문자열은 String의 약자인 str로 표현된다.\n",
        "또는 백슬래시 뒤에 큰따옴표나 작은따옴표를 사용해도 글자로 인식한다.\n",
        "문자열을 여러 줄로 넣으려면 중간에 \\n을 삽입하면 된다.\n",
        "큰따옴표나 작은따옴표 3개를 연속해서 묶어도 된다.\n",
        "\n",
        "파이썬에서는 C/C++, 자바 등과 같은 main()함수가 존재하지 않는다. 따라서 코드가 길어지면, 메인코드 부분이 혼란스러운데, main()함수의 효과를 보여 주는 방법을 사용할 수 있다."
      ],
      "metadata": {
        "id": "uKwq08kKrNtv"
      }
    },
    {
      "cell_type": "code",
      "source": [
        "a = 100\n",
        "b = 200\n",
        "result = a + b\n",
        "print(a,  '+'  ,  b,  '='  , result)  \n",
        "result = a - b\n",
        "print(a,  '-'  ,  b,  '='  , result)  \n",
        "result = a * b\n",
        "print(a,  '*'  ,  b,  '='  , result)  \n",
        "result = a / b\n",
        "print(a,  '/'  ,  b,  '='  , result)  "
      ],
      "metadata": {
        "id": "hIsvWDr50TxM"
      },
      "execution_count": null,
      "outputs": []
    },
    {
      "cell_type": "code",
      "source": [
        "##계산기 예제\n",
        "a = int(input(\"첫번째 숫자를 입력해 주세요: \"))\n",
        "b = int(input(\"두번째 숫자를 입력해 주세요: \"))\n",
        "result = a + b\n",
        "print(a, \"+\", b, \"=\" , result)\n",
        "result = a - b\n",
        "print(a, \"-\", b, \"=\" , result)\n",
        "result = a * b\n",
        "print(a, \"*\", b, \"=\" , result)\n",
        "result = a / b\n",
        "print(a, \"/\", b, \"=\" , result)\n",
        "# input 사용 사칙연산 계산기"
      ],
      "metadata": {
        "id": "m39VXMTa0W9G"
      },
      "execution_count": null,
      "outputs": []
    },
    {
      "cell_type": "code",
      "source": [
        "##계산기 예제\n",
        "a = int(input(\"첫번째 숫자를 입력해 주세요: \"))\n",
        "b = int(input(\"두번째 숫자를 입력해 주세요: \"))\n",
        "result = a ** b\n",
        "print(a, \"**\", b, \"=\" , result)\n",
        "result = a // b\n",
        "print(a, \"//\", b, \"=\" , result)\n",
        "result = a % b\n",
        "print(a, \"%\", b, \"=\" , result)\n",
        "# input 사용 제곱 몫 나머지 계산기"
      ],
      "metadata": {
        "id": "vV8sx-Hp0d2e"
      },
      "execution_count": null,
      "outputs": []
    },
    {
      "cell_type": "code",
      "source": [
        "#잘못된 예시 \n",
        "num1 = input(\"숫자입력1:  \")\n",
        "num2 = input(\"숫자입력2:  \")\n",
        "result = num1 + num2\n",
        "print(type(num1))\n",
        "print(num1, \"+\", num2, \"=\", result)\n",
        "# 이렇게하면 num이 스트링으로 잡히기 때문에 int를 넣어줘야한다."
      ],
      "metadata": {
        "id": "xwGDv1RD0g85"
      },
      "execution_count": null,
      "outputs": []
    },
    {
      "cell_type": "code",
      "source": [
        "a = input(\"이름을 입력해주세요: \")\n",
        "b = input(\"전화번호를 입력해주세요: \")\n",
        "c = int(input(\"무게를 입력해주세요 (g단위) \"))\n",
        "result = c*10\n",
        "print(\"이름은\", a, \"전화번호는\",  b , \"무게에 따른 금액은\", result  ,\"입니다\")"
      ],
      "metadata": {
        "id": "um5_acQG0j1i"
      },
      "execution_count": null,
      "outputs": []
    },
    {
      "cell_type": "code",
      "source": [
        "a = 10  \n",
        "    b = 20 \n",
        "    c = a + b  \n",
        "    d = b - a\n",
        "    print(c, d)"
      ],
      "metadata": {
        "id": "PJfZ-ydBv9nE"
      },
      "execution_count": null,
      "outputs": []
    },
    {
      "cell_type": "code",
      "source": [
        "a = 10\n",
        "b = 3\n",
        " #나눗셈\n",
        "c = a/b  #  나눗셈  \n",
        "d = a//b  #  몫  \n",
        "e = a%b  #  나머지 \n",
        " # 곱셈\n",
        "f = a*b \n",
        "g = a**b #제곱\n",
        "print(c,d,e,f,g) "
      ],
      "metadata": {
        "id": "4mkRUhqLwD-U"
      },
      "execution_count": null,
      "outputs": []
    },
    {
      "cell_type": "markdown",
      "source": [
        "##연산자\n",
        "####산술연산자\n",
        "= 대입연산자  \n",
        "'+' 더하기\n",
        "'-' 빼기  \n",
        "'*' 곱하기  \n",
        "'/' 나누기  \n",
        "'//' 나누기(몫)  \n",
        "'%' 나머지 값  \n",
        "'**' 제곱  \n",
        "연산자 중에서 어떤 것을 먼저 계산할지를 결정하는 우선순위 개념도 필요하다.\n",
        "\n",
        "문자열이 숫자로 구성되어 있을 때, int()또는 float() 함수를 사용해서 정수나 실수로 변환할 수 있다.\n",
        "반대로 숫자를 문자열로 변환하려면 str()함수를 사용한다."
      ],
      "metadata": {
        "id": "ncVlODXxwAN_"
      }
    },
    {
      "cell_type": "code",
      "source": [
        "myName = \"Sebin Oh\" #낙타표기법 (중간 대문자)\n",
        "my_Name = \"유재혁\" #스네이크 표기법 (_언더바 사용한 것)\n",
        "MyName = 'kiki' # 파스칼 표기법 (앞 대문자)\n",
        "_my_name = \"korea\"\n",
        "MYNAME = \"God is love\"\n",
        "my2name = \"12345\"\n",
        "# 2myname = '9876' 숫자로 시작할 수 없다.\n",
        "# my-name = \"michle\" 위에바가 들어가면 안된다.\n",
        "# my name = \"kiki\" 스페이스바를 쓰면 안된다.\n",
        "myStr = '123' #str\n",
        "myNum = 123 # int\n",
        "\n",
        "print(myStr, myNum)\n",
        "#print(myStr+myNum) 숫자와 문자이기 때문에 합해지지않는다.\n",
        "print(type(myStr))\n",
        "print(type(myNum))"
      ],
      "metadata": {
        "colab": {
          "base_uri": "https://localhost:8080/"
        },
        "id": "L6KmlscHxWSI",
        "outputId": "7ed388fe-05e2-4233-a274-37bb702e7ae0"
      },
      "execution_count": 1,
      "outputs": [
        {
          "output_type": "stream",
          "name": "stdout",
          "text": [
            "123 123\n",
            "<class 'str'>\n",
            "<class 'int'>\n"
          ]
        }
      ]
    },
    {
      "cell_type": "markdown",
      "source": [
        "##대입연산자\n",
        "+= -= *= /= //= %= **="
      ],
      "metadata": {
        "id": "pCz54deBxfWQ"
      }
    },
    {
      "cell_type": "code",
      "source": [
        "a = 10\n",
        "a += 5; print(a)\n",
        "a -= 5; print(a)\n",
        "a *= 5; print(a)\n",
        "a /= 5; print(a)\n",
        "a //= 5; print(a)\n",
        "a %= 5; print(a)\n",
        "a **= 5; print(a)"
      ],
      "metadata": {
        "id": "IpaEWjdJyD2Y"
      },
      "execution_count": null,
      "outputs": []
    },
    {
      "cell_type": "markdown",
      "source": [
        "####관계연산자\n",
        "관계 연산자는 비교 연산자라고도 하며 어떤 것이 크거나 작거나 같은지 비교한다 그 결과는 참 아니면 거짓이 된다.  \n",
        "'==' 같다  \n",
        "'!=' 같지않다  \n",
        "'>' 크다  \n",
        "'<' 작다  \n",
        "'>=' 크거나 같다  \n",
        "'<=' 작거나 같다  \n",
        "주로 조건문(if) 이나 반복문(while 문)에서 사용되며, 단독으로는 거의 사용하지 않는다. 일반적으로 참은 True로 거짓은 False로 표시한다."
      ],
      "metadata": {
        "id": "HwJ3aXrByWUJ"
      }
    },
    {
      "cell_type": "code",
      "source": [
        "#여러개의 변수 할당 \n",
        "x,y,z = \"포도\", \"딸기\", \"수박\"\n",
        "print(x)\n",
        "print(y)\n",
        "print(z)"
      ],
      "metadata": {
        "id": "1VV0-Zqzz8yc"
      },
      "execution_count": 2,
      "outputs": []
    },
    {
      "cell_type": "code",
      "source": [
        "a = b = c = \"오렌지\"\n",
        " print(a)\n",
        " print(b)\n",
        " print(c)"
      ],
      "metadata": {
        "id": "ENwptvbb0Gtj"
      },
      "execution_count": null,
      "outputs": []
    },
    {
      "cell_type": "code",
      "source": [
        "fruits = [\"포도\", \"딸기\", \"수박\"]\n",
        "x , y , z = fruits\n",
        "print(x)\n",
        "print(y)\n",
        "print(z)"
      ],
      "metadata": {
        "id": "n1dUAUmq0JIP"
      },
      "execution_count": null,
      "outputs": []
    },
    {
      "cell_type": "code",
      "source": [
        "x = \"Life\"  \n",
        "y = \"is\"  \n",
        "z = \"Beautiful\"  \n",
        "print(x,y,z)\n",
        "print(x+y+z)"
      ],
      "metadata": {
        "id": "1cumjAqD0L28"
      },
      "execution_count": null,
      "outputs": []
    },
    {
      "cell_type": "code",
      "source": [
        "a = 1\n",
        "b = 2\n",
        "c = 3 # \"3\" str 으로 만들면 에러가 난다.\n",
        "print(a,b,c)\n",
        "print(a+b+c)"
      ],
      "metadata": {
        "id": "VG0q2y-v0Of9"
      },
      "execution_count": null,
      "outputs": []
    },
    {
      "cell_type": "markdown",
      "source": [
        "####논리연산자\n",
        "논리 연산자는 주로 여러 가지 조건을 복합해서 사용하는데, and그리고, or또는 not부정 세가지가 있다.  \n",
        "and논리곱  \n",
        "or논리합  \n",
        "not논리부정  "
      ],
      "metadata": {
        "id": "J9wvbw-Y0pNE"
      }
    },
    {
      "cell_type": "code",
      "source": [
        "a = 99\n",
        "(a > 100) and (a < 200)\n",
        "(a > 100) or (a < 200)\n",
        "not(a==100)"
      ],
      "metadata": {
        "id": "ZkrF9sma1At7"
      },
      "execution_count": null,
      "outputs": []
    },
    {
      "cell_type": "markdown",
      "source": [
        "####조건문"
      ],
      "metadata": {
        "id": "uGHVWTkS15M6"
      }
    }
  ]
}